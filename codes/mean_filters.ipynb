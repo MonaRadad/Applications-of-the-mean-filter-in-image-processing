{
  "nbformat": 4,
  "nbformat_minor": 0,
  "metadata": {
    "colab": {
      "name": "mean filters.ipynb",
      "provenance": []
    },
    "kernelspec": {
      "name": "python3",
      "display_name": "Python 3"
    },
    "language_info": {
      "name": "python"
    }
  },
  "cells": [
    {
      "cell_type": "code",
      "execution_count": 1,
      "metadata": {
        "colab": {
          "base_uri": "https://localhost:8080/"
        },
        "id": "WSr0UmMTABwO",
        "outputId": "6ed0f17a-e636-453a-9dde-ce6dd26ac041"
      },
      "outputs": [
        {
          "output_type": "stream",
          "name": "stdout",
          "text": [
            "\u001b[K     |████████████████████████████████| 60.4 MB 1.3 MB/s \n",
            "\u001b[31mERROR: pip's dependency resolver does not currently take into account all the packages that are installed. This behaviour is the source of the following dependency conflicts.\n",
            "albumentations 0.1.12 requires imgaug<0.2.7,>=0.2.5, but you have imgaug 0.2.9 which is incompatible.\u001b[0m\n",
            "\u001b[?25h"
          ]
        }
      ],
      "source": [
        "!apt-get -qq install -y libsm6 libxext6 && pip install -q -U opencv-python\n",
        "import cv2\n",
        "from PIL import Image\n",
        "from google.colab.patches import cv2_imshow\n",
        "\n",
        "import numpy as np\n",
        "import pandas as pd\n",
        "import cv2"
      ]
    },
    {
      "cell_type": "code",
      "source": [
        "# 2\n",
        "mosque= cv2.imread(\"mosque.bmp\")\n",
        "mosque = cv2.cvtColor(mosque,cv2.COLOR_BGR2GRAY)\n",
        "\n",
        "def robert_filter(image):\n",
        "\n",
        "  robert_Xfilter = np.array([[1,0],[0,-1]])\n",
        "  robert_Xfilter = np.array([[0,1],[-1,0]])\n",
        "\n",
        "  Gx = np.zeros((image.shape[0],image.shape[1]))\n",
        "  Gy = np.zeros((image.shape[0],image.shape[1]))\n",
        "\n",
        "  for i in range(image.shape[0]):\n",
        "    for j in range(image.shape[1]):\n",
        "      Gx[i][j] = (robert_Xfilter * image[i:i+2,j:j+2]).sum()\n",
        "      Gy[i][j] = (robert_Xfilter * image[i:i+2,j:j+2]).sum()\n",
        "\n",
        "  G = np.sqrt(np.power(Gx,2)+np.power(Gy,2))\n",
        "  \n",
        "  return G\n",
        "\n",
        "\n",
        "def mean_filter(image,n):\n",
        "\n",
        "  mean_filter = np.ones((n,n))/(n*n)\n",
        "  G = np.zeros((image.shape[0],image.shape[1]))\n",
        "\n",
        "  for i in range(image.shape[0]):\n",
        "    if image.shape[0] - i < n:\n",
        "      break\n",
        "    for j in range(image.shape[1]):\n",
        "      if image.shape[1] - j < n:\n",
        "        break\n",
        "      G[i][j] = (mean_filter * image[i:i+n,j:j+n]).sum()\n",
        "\n",
        "  return G \n",
        "\n",
        "mosque_robert = robert_filter(mosque)\n",
        "cv2_imshow(mosque_robert)\n",
        "\n",
        "mosque_mean_3 = mean_filter(mosque,3)\n",
        "mosque_mean_3_robert = robert_filter(mosque_mean_3)\n",
        "cv2_imshow(mosque_mean_3_robert)\n",
        "\n",
        "mosque_mean_5 = mean_filter(mosque,5)\n",
        "mosque_mean_5_robert = robert_filter(mosque_mean_5)\n",
        "cv2_imshow(mosque_mean_5_robert)\n",
        "\n",
        "mosque_mean_7 = mean_filter(mosque,7)\n",
        "cv2_imshow(mosque_mean_7)\n",
        "mosque_mean_7_robert = robert_filter(mosque_mean_7)\n",
        "cv2_imshow(mosque_mean_7_robert)\n",
        "\n",
        "\n",
        "def psedu_mean_nx_filter(image,n):\n",
        "\n",
        "  if n == 5:\n",
        "    mean_filter =  (np.array([[1,2,3,2,1],\n",
        "                            [2,4,6,4,2],\n",
        "                            [3,6,9,6,3],\n",
        "                            [2,4,6,4,2],\n",
        "                            [1,2,3,2,1]]))/81\n",
        "  elif n == 7:  \n",
        "        mean_filter =  (np.array([[1,3,6,7,6,3,1],\n",
        "                            [3,9,18,21,18,9,3],\n",
        "                            [6,18,36,42,36,18,6],\n",
        "                            [7,21,42,49,42,21,7],\n",
        "                            [6,18,36,42,36,18,6],\n",
        "                            [3,9,18,21,18,9,3],\n",
        "                            [1,3,6,7,6,3,1]])/729) \n",
        "\n",
        "  G = np.zeros((488,695))\n",
        "\n",
        "  for i in range(image.shape[0]):\n",
        "    if image.shape[0] - i < n:\n",
        "      break\n",
        "    for j in range(image.shape[1]):\n",
        "      if image.shape[1] - j < n:\n",
        "        break\n",
        "      G[i][j] = (mean_filter * image[i:i+n,j:j+n]).sum()\n",
        "\n",
        "  return G \n",
        "\n",
        "\n",
        "\n",
        "\n",
        "mosque_mean_3 = mean_filter(mosque,3)\n",
        "mosque_mean_3_2x = mean_filter(mosque_mean_3,3)\n",
        "cv2_imshow(mosque_mean_3_2x)\n",
        "\n",
        "mosque_mean_3 = psedu_mean_nx_filter(mosque,5)\n",
        "cv2_imshow(mosque_mean_3)\n",
        "\n",
        "\n",
        "mosque_mean_3 = mean_filter(mosque,3)\n",
        "mosque_mean_3_2x = mean_filter(mosque_mean_3,3)\n",
        "mosque_mean_3_3x = mean_filter(mosque_mean_3_2x,3)\n",
        "cv2_imshow(mosque_mean_3_3x)\n",
        "\n",
        "mosque_mean_7 = psedu_mean_nx_filter(mosque,7)\n",
        "cv2_imshow(mosque_mean_7)\n",
        "\n",
        "\n"
      ],
      "metadata": {
        "id": "HQFZBHNMAHVy"
      },
      "execution_count": null,
      "outputs": []
    },
    {
      "cell_type": "code",
      "source": [
        "import tensorflow as tf\n",
        "tf.test.gpu_device_name()"
      ],
      "metadata": {
        "id": "VMYO63LTASUO"
      },
      "execution_count": null,
      "outputs": []
    },
    {
      "cell_type": "code",
      "source": [
        " mean_filter =  (np.array([[1,3,6,7,6,3,1],\n",
        "                            [3,9,18,21,18,9,3],\n",
        "                            [6,18,36,42,36,18,6],\n",
        "                            [7,21,42,49,42,21,7],\n",
        "                            [6,18,36,42,36,18,6],\n",
        "                            [3,9,18,21,18,9,3],\n",
        "                            [1,3,6,7,6,3,1]]))\n",
        "        mean_filter.sum() \n",
        "\n",
        "        x = np.array([[1,2,3,2,1],\n",
        "                            [2,4,6,4,2],\n",
        "                            [3,6,9,6,3],\n",
        "                            [2,4,6,4,2],\n",
        "                            [1,2,3,2,1]])\n",
        "        # x.sum() "
      ],
      "metadata": {
        "id": "yQ0ZyIIDAWL4"
      },
      "execution_count": null,
      "outputs": []
    }
  ]
}